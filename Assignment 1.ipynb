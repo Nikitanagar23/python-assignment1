{
 "cells": [
  {
   "cell_type": "code",
   "execution_count": 1,
   "id": "0a1272a7-b757-4ed7-87df-ea5d5265428a",
   "metadata": {
    "tags": []
   },
   "outputs": [],
   "source": [
    "#TOPIC: PYTHON BASICS VARIABLES"
   ]
  },
  {
   "cell_type": "code",
   "execution_count": 2,
   "id": "8d7284cd-5241-4b0e-af2d-7862ed2d2d8b",
   "metadata": {},
   "outputs": [],
   "source": [
    "#QUESTION 1"
   ]
  },
  {
   "cell_type": "code",
   "execution_count": 3,
   "id": "e3f9016e-21b9-4a00-8d34-21706eda1a49",
   "metadata": {},
   "outputs": [],
   "source": [
    "#swap two number without using any temporary variable"
   ]
  },
  {
   "cell_type": "code",
   "execution_count": 4,
   "id": "c15cd255-33a5-469d-b539-ef2c91dd519c",
   "metadata": {
    "tags": []
   },
   "outputs": [],
   "source": [
    "x =10"
   ]
  },
  {
   "cell_type": "code",
   "execution_count": 5,
   "id": "db5eca1a-a7b4-4771-ab5b-b2aa238d67d8",
   "metadata": {
    "tags": []
   },
   "outputs": [],
   "source": [
    "y = 20"
   ]
  },
  {
   "cell_type": "code",
   "execution_count": 6,
   "id": "9d2b39bc-fb0d-4b17-a4c2-ccbfc810f1b5",
   "metadata": {
    "tags": []
   },
   "outputs": [],
   "source": [
    "x=x+y"
   ]
  },
  {
   "cell_type": "code",
   "execution_count": 7,
   "id": "125afd0e-32a9-4b3f-a89e-7edeaf12243e",
   "metadata": {},
   "outputs": [],
   "source": [
    "# so now we have x=30 "
   ]
  },
  {
   "cell_type": "code",
   "execution_count": 8,
   "id": "1b2f4b7b-4c4c-4a3d-8c01-435adbaea11c",
   "metadata": {
    "tags": []
   },
   "outputs": [],
   "source": [
    "y=x-y"
   ]
  },
  {
   "cell_type": "code",
   "execution_count": 9,
   "id": "3cd8c13b-54de-43f5-b314-2a2c21fa26dc",
   "metadata": {},
   "outputs": [],
   "source": [
    "# and y =10 by putting x=30 and y=20"
   ]
  },
  {
   "cell_type": "code",
   "execution_count": 10,
   "id": "011c339c-dbf2-403b-ac50-82df70f1b487",
   "metadata": {
    "tags": []
   },
   "outputs": [],
   "source": [
    "x=x-y"
   ]
  },
  {
   "cell_type": "code",
   "execution_count": 11,
   "id": "ca2194f7-46b6-4150-93f1-4b18b75b9834",
   "metadata": {},
   "outputs": [],
   "source": [
    "#then i put futher values of x =30 and y =20  "
   ]
  },
  {
   "cell_type": "code",
   "execution_count": 12,
   "id": "8d4423a9-143d-4716-8e11-751a2d94e823",
   "metadata": {
    "tags": []
   },
   "outputs": [
    {
     "data": {
      "text/plain": [
       "20"
      ]
     },
     "execution_count": 12,
     "metadata": {},
     "output_type": "execute_result"
    }
   ],
   "source": [
    "x"
   ]
  },
  {
   "cell_type": "code",
   "execution_count": 13,
   "id": "c729da0d-f836-4601-989f-74f5670ce4a7",
   "metadata": {
    "tags": []
   },
   "outputs": [
    {
     "data": {
      "text/plain": [
       "10"
      ]
     },
     "execution_count": 13,
     "metadata": {},
     "output_type": "execute_result"
    }
   ],
   "source": [
    "y"
   ]
  },
  {
   "cell_type": "code",
   "execution_count": 14,
   "id": "4f088966-d9c0-491e-b90d-bb824e483409",
   "metadata": {
    "tags": []
   },
   "outputs": [],
   "source": [
    "#so the values of two integers are swapped now"
   ]
  },
  {
   "cell_type": "code",
   "execution_count": null,
   "id": "2d885674-fca0-4445-b2d1-3444346848ef",
   "metadata": {},
   "outputs": [],
   "source": []
  },
  {
   "cell_type": "code",
   "execution_count": null,
   "id": "83fe4ae2-7317-42a2-8a84-87f04d965936",
   "metadata": {},
   "outputs": [],
   "source": []
  },
  {
   "cell_type": "code",
   "execution_count": 15,
   "id": "120135af-628a-4f96-8317-efeb7086a202",
   "metadata": {
    "tags": []
   },
   "outputs": [],
   "source": [
    "#question 2"
   ]
  },
  {
   "cell_type": "code",
   "execution_count": 16,
   "id": "6c1a231e-0eab-4fb8-a4c9-0760294573b2",
   "metadata": {
    "tags": []
   },
   "outputs": [],
   "source": [
    "#area of rectangle"
   ]
  },
  {
   "cell_type": "code",
   "execution_count": 17,
   "id": "bcf75ebb-1961-4a5a-923a-abcd19a22e64",
   "metadata": {
    "tags": []
   },
   "outputs": [],
   "source": [
    "length = 5"
   ]
  },
  {
   "cell_type": "code",
   "execution_count": 18,
   "id": "c5dcbad1-d9ef-45d3-a86e-93471e8ed49c",
   "metadata": {
    "tags": []
   },
   "outputs": [],
   "source": [
    "width = 10"
   ]
  },
  {
   "cell_type": "code",
   "execution_count": 19,
   "id": "2309cd27-c435-4e7b-9464-e00f846cb8ae",
   "metadata": {
    "tags": []
   },
   "outputs": [],
   "source": [
    "area = length * width"
   ]
  },
  {
   "cell_type": "code",
   "execution_count": 20,
   "id": "a9410574-f11d-4a0e-a0de-793a53fe3ef6",
   "metadata": {
    "tags": []
   },
   "outputs": [
    {
     "name": "stdout",
     "output_type": "stream",
     "text": [
      "area of rectangle = 50\n"
     ]
    }
   ],
   "source": [
    "print(\"area of rectangle = \"+str(area))"
   ]
  },
  {
   "cell_type": "code",
   "execution_count": null,
   "id": "1f530052-98ba-4a00-a915-24c7efafce0b",
   "metadata": {},
   "outputs": [],
   "source": []
  },
  {
   "cell_type": "code",
   "execution_count": null,
   "id": "ff41188f-aea4-4928-83d1-c54112e4f7f5",
   "metadata": {},
   "outputs": [],
   "source": []
  },
  {
   "cell_type": "code",
   "execution_count": 21,
   "id": "97986685-e3d0-4c1f-8984-a6c3813a694a",
   "metadata": {
    "tags": []
   },
   "outputs": [],
   "source": [
    "#Question 3"
   ]
  },
  {
   "cell_type": "code",
   "execution_count": 22,
   "id": "8f806d84-dbcd-4092-a554-53673777893b",
   "metadata": {
    "tags": []
   },
   "outputs": [],
   "source": [
    "#temperature from celcius to fahrenheit"
   ]
  },
  {
   "cell_type": "code",
   "execution_count": 23,
   "id": "b39f19a5-03b9-496b-a5b8-c3183b5e30be",
   "metadata": {
    "tags": []
   },
   "outputs": [],
   "source": [
    "celsius =12"
   ]
  },
  {
   "cell_type": "code",
   "execution_count": 24,
   "id": "97acf059-3da3-4b5d-8fb4-d3f9293a65fc",
   "metadata": {},
   "outputs": [],
   "source": [
    "#formula to convert celsius to fahrenheit\n",
    "#f = 9/5c+32"
   ]
  },
  {
   "cell_type": "code",
   "execution_count": 25,
   "id": "86036f1a-41a5-47f0-8547-0fb3a0a596ac",
   "metadata": {
    "tags": []
   },
   "outputs": [],
   "source": [
    "fahrenheit = ((celsius*9)/5)+32"
   ]
  },
  {
   "cell_type": "code",
   "execution_count": 26,
   "id": "f15bb75f-e461-4797-9471-9ca5341522c7",
   "metadata": {
    "tags": []
   },
   "outputs": [
    {
     "name": "stdout",
     "output_type": "stream",
     "text": [
      "53.6\n"
     ]
    }
   ],
   "source": [
    "print(fahrenheit);"
   ]
  },
  {
   "cell_type": "code",
   "execution_count": null,
   "id": "6cc0ab14-5d23-471d-a50a-d05cd5902d8c",
   "metadata": {},
   "outputs": [],
   "source": []
  },
  {
   "cell_type": "code",
   "execution_count": null,
   "id": "ffcf2633-ebca-43ba-9374-22b229046131",
   "metadata": {
    "tags": []
   },
   "outputs": [],
   "source": []
  },
  {
   "cell_type": "code",
   "execution_count": 27,
   "id": "7543d884-73c9-42fb-98df-de18e3629bfb",
   "metadata": {
    "tags": []
   },
   "outputs": [],
   "source": [
    "#Topic : STRING BASED QUESTIONS"
   ]
  },
  {
   "cell_type": "code",
   "execution_count": 28,
   "id": "e13a0f0d-266f-4889-94b1-324fefe3c40a",
   "metadata": {
    "tags": []
   },
   "outputs": [],
   "source": [
    "#Question 1"
   ]
  },
  {
   "cell_type": "code",
   "execution_count": 29,
   "id": "7e1e0b49-44a9-4dad-9840-deb34736219b",
   "metadata": {
    "tags": []
   },
   "outputs": [],
   "source": [
    "str1 = \"HelloPwSkills\""
   ]
  },
  {
   "cell_type": "code",
   "execution_count": 30,
   "id": "832a7392-2c1c-442d-8249-6f14c1cc2bde",
   "metadata": {
    "tags": []
   },
   "outputs": [],
   "source": [
    "n=len(str1)"
   ]
  },
  {
   "cell_type": "code",
   "execution_count": 31,
   "id": "35beda9c-e033-472b-919c-187d7f860b60",
   "metadata": {
    "tags": []
   },
   "outputs": [
    {
     "name": "stdout",
     "output_type": "stream",
     "text": [
      "13\n"
     ]
    }
   ],
   "source": [
    "print(n)"
   ]
  },
  {
   "cell_type": "code",
   "execution_count": null,
   "id": "3a4f2ff1-689e-4707-ab54-438704209c13",
   "metadata": {},
   "outputs": [],
   "source": []
  },
  {
   "cell_type": "code",
   "execution_count": null,
   "id": "8cee8b1f-2a36-4a96-a37c-c1bac10925ab",
   "metadata": {},
   "outputs": [],
   "source": []
  },
  {
   "cell_type": "code",
   "execution_count": 32,
   "id": "90065ffa-9598-4dc6-81d5-07904f69a1c5",
   "metadata": {
    "tags": []
   },
   "outputs": [],
   "source": [
    "#Question 2"
   ]
  },
  {
   "cell_type": "code",
   "execution_count": 33,
   "id": "5121af74-222a-4d1c-9d8d-0b53fd2fa04d",
   "metadata": {
    "tags": []
   },
   "outputs": [],
   "source": [
    "#count the number of vowels"
   ]
  },
  {
   "cell_type": "code",
   "execution_count": 47,
   "id": "5cea5a62-76b9-4f4d-98b4-87f73059d81e",
   "metadata": {
    "tags": []
   },
   "outputs": [
    {
     "name": "stdin",
     "output_type": "stream",
     "text": [
      "Enter a string : nikita nagar\n"
     ]
    },
    {
     "name": "stdout",
     "output_type": "stream",
     "text": [
      "No of vowels are: 5\n"
     ]
    }
   ],
   "source": [
    "string = str(input(\"Enter a string :\"))\n",
    "vowels = 0 \n",
    "for i in string:\n",
    "    if(i=='a' or i=='e' or i=='i' or i=='o' or i=='u'):\n",
    "     vowels=vowels+1\n",
    "print(\"No of vowels are:\",vowels)\n",
    "             "
   ]
  },
  {
   "cell_type": "code",
   "execution_count": null,
   "id": "14b05d50-35bf-43ab-8344-a2b6b228509a",
   "metadata": {
    "tags": []
   },
   "outputs": [],
   "source": []
  },
  {
   "cell_type": "code",
   "execution_count": null,
   "id": "5c999a55-6e02-4f7d-b59d-3f51594d2169",
   "metadata": {
    "tags": []
   },
   "outputs": [],
   "source": []
  },
  {
   "cell_type": "code",
   "execution_count": null,
   "id": "2173efcc-ab71-4c8e-b8ea-162d5c5c69fd",
   "metadata": {
    "tags": []
   },
   "outputs": [],
   "source": [
    "#Question 3"
   ]
  },
  {
   "cell_type": "code",
   "execution_count": 48,
   "id": "2472e648-c7a7-4fdb-bcee-be668b5057df",
   "metadata": {
    "tags": []
   },
   "outputs": [],
   "source": [
    "int = \"Hello Pwskills\""
   ]
  },
  {
   "cell_type": "code",
   "execution_count": 49,
   "id": "09b0b7f7-a1e0-48cc-8601-a61d14bf8699",
   "metadata": {
    "tags": []
   },
   "outputs": [
    {
     "data": {
      "text/plain": [
       "'sllikswP olleH'"
      ]
     },
     "execution_count": 49,
     "metadata": {},
     "output_type": "execute_result"
    }
   ],
   "source": [
    "int[::-1]"
   ]
  },
  {
   "cell_type": "code",
   "execution_count": null,
   "id": "6a076733-b078-4595-89a3-f13f8ca20f23",
   "metadata": {},
   "outputs": [],
   "source": []
  },
  {
   "cell_type": "code",
   "execution_count": null,
   "id": "e3e5a93c-d7dd-49e0-872d-a77bd887fa3b",
   "metadata": {
    "tags": []
   },
   "outputs": [],
   "source": [
    "#Question 4"
   ]
  },
  {
   "cell_type": "code",
   "execution_count": null,
   "id": "de8908a5-da07-4d25-87f0-9ca5a16b4368",
   "metadata": {
    "tags": []
   },
   "outputs": [],
   "source": [
    "#palindrome which return reverse"
   ]
  },
  {
   "cell_type": "code",
   "execution_count": 50,
   "id": "664560d5-6b06-4a77-870f-e0d53ccb7653",
   "metadata": {},
   "outputs": [
    {
     "name": "stdin",
     "output_type": "stream",
     "text": [
      "Enter a string: malayalam\n"
     ]
    },
    {
     "name": "stdout",
     "output_type": "stream",
     "text": [
      "malayalamis a palindrome\n"
     ]
    }
   ],
   "source": [
    "n = input(\"Enter a string:\")\n",
    "if n == n[::-1]:\n",
    "    print(n+\"is a palindrome\")\n",
    "else:\n",
    "        print(n+ \" is not a pallindrome\")"
   ]
  },
  {
   "cell_type": "code",
   "execution_count": null,
   "id": "8bdec2ef-c486-4d2c-a8de-4b9f80930cb5",
   "metadata": {},
   "outputs": [],
   "source": []
  },
  {
   "cell_type": "code",
   "execution_count": null,
   "id": "5ae6464d-8913-4249-a726-62c1a354f554",
   "metadata": {
    "tags": []
   },
   "outputs": [],
   "source": [
    "#question 5"
   ]
  },
  {
   "cell_type": "code",
   "execution_count": null,
   "id": "699c209a-7e25-4069-a72d-57d957a16d40",
   "metadata": {
    "tags": []
   },
   "outputs": [],
   "source": [
    "str1 = \"Remove white spaces\";"
   ]
  },
  {
   "cell_type": "code",
   "execution_count": null,
   "id": "d7c1162e-391e-4788-927d-7c43f9f56dd3",
   "metadata": {
    "tags": []
   },
   "outputs": [],
   "source": [
    "str1 = str1.replace(\" \",\"\");\n"
   ]
  },
  {
   "cell_type": "code",
   "execution_count": 51,
   "id": "eb3f86b6-cc58-43e9-b1cb-a27aa4a9b1cf",
   "metadata": {
    "tags": []
   },
   "outputs": [
    {
     "name": "stdout",
     "output_type": "stream",
     "text": [
      "string after removing all the white spaces:HelloPwSkills\n"
     ]
    }
   ],
   "source": [
    "print(\"string after removing all the white spaces:\"+str1);"
   ]
  },
  {
   "cell_type": "code",
   "execution_count": null,
   "id": "f57ddcc2-4062-4131-a739-1c1e57dec143",
   "metadata": {
    "tags": []
   },
   "outputs": [],
   "source": []
  },
  {
   "cell_type": "code",
   "execution_count": null,
   "id": "2c0a27df-0fe6-483c-bb37-2990ab1c249b",
   "metadata": {},
   "outputs": [],
   "source": []
  },
  {
   "cell_type": "code",
   "execution_count": null,
   "id": "41c5204c-bff8-4fbd-bfa2-3c0d8935382b",
   "metadata": {},
   "outputs": [],
   "source": []
  }
 ],
 "metadata": {
  "kernelspec": {
   "display_name": "Python 3 (ipykernel)",
   "language": "python",
   "name": "python3"
  },
  "language_info": {
   "codemirror_mode": {
    "name": "ipython",
    "version": 3
   },
   "file_extension": ".py",
   "mimetype": "text/x-python",
   "name": "python",
   "nbconvert_exporter": "python",
   "pygments_lexer": "ipython3",
   "version": "3.11.4"
  }
 },
 "nbformat": 4,
 "nbformat_minor": 5
}
